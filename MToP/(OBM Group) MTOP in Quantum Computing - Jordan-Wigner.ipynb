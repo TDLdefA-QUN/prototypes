{
 "cells": [
  {
   "cell_type": "markdown",
   "id": "f0954c5a",
   "metadata": {},
   "source": [
    "# (OBM Group) MTOP in Quantum Computing - Jordan-Wigner"
   ]
  },
  {
   "cell_type": "markdown",
   "id": "674f6b2a",
   "metadata": {},
   "source": [
    "##### Installation of OpenFermion"
   ]
  },
  {
   "cell_type": "code",
   "execution_count": null,
   "id": "8c42ec89",
   "metadata": {},
   "outputs": [],
   "source": [
    "try:\n",
    "    import openfermion\n",
    "except ImportError:\n",
    "    !pip install -q git+https://github.com/quantumlib/OpenFermion.git@master#egg=openfermion"
   ]
  },
  {
   "cell_type": "markdown",
   "id": "393fc382",
   "metadata": {},
   "source": [
    "### Jordan-Wigner Transformation\n",
    "\n",
    "This transformation allows the conversion from half-spin degrees of freedom to fermionic degrees of freedom. Exact solutions for models such as the transverse electric field model can be found using the Jordan-Wigner transform.\n",
    "\n",
    "For better understanding, imagine two chains. One with spin one-half degrees of freedom, and one with fermions. In both cases the degrees of freedom are 2. In the first chain the spin can be either up or down. In the fermion example, the states may or may not have fermions due to the multiple exclusion principle. There are no direct similarities between these two samples when looking at the whole system, not just the single lattice.\n",
    "\n",
    "We can define the usual observables for each individual lattice site that is the spin in the x direction the y direction and the z direction for each lattice site. apply a raising operator s plus to a down state it becomes an upstate and the rest of the expressions here are analogous interestingly these raising and lowering operators also have the following anti-commutation relation with each other. these raising and lowering operators commute with each other rather than anti-commute with each other so this is a key thing to appreciate that is thatthese uh that the same site operators obey anti-commutation relations while the operators on different sites obey commutation relations. it is regularly convenient to transform a problem to degrees of freedom which obey the same type of algebra, either bosonic or fermionic. \n",
    "\n",
    "Fermionic creation and annihilation operators is like raising and lowering operators. An annihilation operator lowers the number of particles in a given state by one. A creation operator increases the number of particles in a given state by one, and it is the adjoint of the annihilation operator."
   ]
  },
  {
   "cell_type": "markdown",
   "id": "20399100",
   "metadata": {},
   "source": [
    "###### Ladder Operations"
   ]
  },
  {
   "cell_type": "code",
   "execution_count": 4,
   "id": "48ebb062",
   "metadata": {},
   "outputs": [
    {
     "name": "stdout",
     "output_type": "stream",
     "text": [
      "annihilate_2_jw = \n",
      "0.5 [Z0 Z1 X2] +\n",
      "0.5j [Z0 Z1 Y2]\n",
      "\n",
      "create_2_jw = \n",
      "0.5 [Z0 Z1 X2] +\n",
      "-0.5j [Z0 Z1 Y2]\n",
      "\n",
      "annihilate_5_jw = \n",
      "0.5 [Z0 Z1 Z2 Z3 Z4 X5] +\n",
      "0.5j [Z0 Z1 Z2 Z3 Z4 Y5]\n",
      "\n",
      "create_5_jw = \n",
      "0.5 [Z0 Z1 Z2 Z3 Z4 X5] +\n",
      "-0.5j [Z0 Z1 Z2 Z3 Z4 Y5]\n",
      "\n",
      "num_2_jw = \n",
      "(0.5+0j) [] +\n",
      "(-0.5+0j) [Z2]\n",
      "\n",
      "num_5_jw = \n",
      "(0.5+0j) [] +\n",
      "(-0.5+0j) [Z5]\n"
     ]
    }
   ],
   "source": [
    "from openfermion import *\n",
    "\n",
    "# Create some ladder operators\n",
    "annihilate_2 = FermionOperator('2')\n",
    "create_2 = FermionOperator('2^')\n",
    "annihilate_5 = FermionOperator('5')\n",
    "create_5 = FermionOperator('5^')\n",
    "\n",
    "# Construct occupation number operators\n",
    "num_2 = create_2 * annihilate_2\n",
    "num_5 = create_5 * annihilate_5\n",
    "\n",
    "# Map FermionOperators to QubitOperators using the JWT\n",
    "annihilate_2_jw = jordan_wigner(annihilate_2)\n",
    "create_2_jw = jordan_wigner(create_2)\n",
    "annihilate_5_jw = jordan_wigner(annihilate_5)\n",
    "create_5_jw = jordan_wigner(create_5)\n",
    "num_2_jw = jordan_wigner(num_2)\n",
    "num_5_jw = jordan_wigner(num_5)\n",
    "\n",
    "# Create QubitOperator versions of zero and identity\n",
    "zero = QubitOperator()\n",
    "identity = QubitOperator(())\n",
    "\n",
    "# Check the canonical anticommutation relations\n",
    "assert anticommutator(annihilate_5_jw, annihilate_2_jw) == zero\n",
    "assert anticommutator(annihilate_5_jw, annihilate_5_jw) == zero\n",
    "assert anticommutator(annihilate_5_jw, create_2_jw) == zero\n",
    "assert anticommutator(annihilate_5_jw, create_5_jw) == identity\n",
    "\n",
    "# Check that the occupation number operators commute\n",
    "assert commutator(num_2_jw, num_5_jw) == zero\n",
    "\n",
    "# Print some output\n",
    "print(\"annihilate_2_jw = \\n{}\".format(annihilate_2_jw))\n",
    "print('')\n",
    "print(\"create_2_jw = \\n{}\".format(create_2_jw))\n",
    "print('')\n",
    "print(\"annihilate_5_jw = \\n{}\".format(annihilate_5_jw))\n",
    "print('')\n",
    "print(\"create_5_jw = \\n{}\".format(create_5_jw))\n",
    "print('')\n",
    "print(\"num_2_jw = \\n{}\".format(num_2_jw))\n",
    "print('')\n",
    "print(\"num_5_jw = \\n{}\".format(num_5_jw))"
   ]
  },
  {
   "cell_type": "code",
   "execution_count": null,
   "id": "1fbff154",
   "metadata": {},
   "outputs": [],
   "source": []
  }
 ],
 "metadata": {
  "kernelspec": {
   "display_name": "Python 3 (ipykernel)",
   "language": "python",
   "name": "python3"
  },
  "language_info": {
   "codemirror_mode": {
    "name": "ipython",
    "version": 3
   },
   "file_extension": ".py",
   "mimetype": "text/x-python",
   "name": "python",
   "nbconvert_exporter": "python",
   "pygments_lexer": "ipython3",
   "version": "3.10.4"
  }
 },
 "nbformat": 4,
 "nbformat_minor": 5
}
