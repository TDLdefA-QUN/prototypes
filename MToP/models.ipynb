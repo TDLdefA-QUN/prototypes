{
 "cells": [
  {
   "cell_type": "code",
   "execution_count": 1,
   "metadata": {},
   "outputs": [],
   "source": [
    "from openfermion import plane_wave_hamiltonian,plane_wave_kinetic,plane_wave_external_potential,plane_wave_potential,jellium_model"
   ]
  },
  {
   "cell_type": "markdown",
   "metadata": {},
   "source": [
    "# Creating a 1D grid and a geometry"
   ]
  },
  {
   "cell_type": "code",
   "execution_count": 2,
   "metadata": {},
   "outputs": [],
   "source": [
    "from openfermion.utils import Grid\n",
    "\n",
    "grid = Grid(1, 2, 1.0) # We are working in 1D."
   ]
  },
  {
   "cell_type": "code",
   "execution_count": 3,
   "metadata": {},
   "outputs": [],
   "source": [
    "geometry = [('H', (0,)), ('H', (0.7414,))]"
   ]
  },
  {
   "cell_type": "markdown",
   "metadata": {},
   "source": [
    "# Plane Wave Basis"
   ]
  },
  {
   "cell_type": "markdown",
   "metadata": {},
   "source": [
    "## Hamiltonian of the grid and the geometry"
   ]
  },
  {
   "cell_type": "code",
   "execution_count": 4,
   "metadata": {},
   "outputs": [
    {
     "data": {
      "text/plain": [
       "19.739208802178716 [0^ 0] +\n",
       "0.15915494309189535 [0^ 1^ 3 2] +\n",
       "(-0.30111825512336843+1.843817536508347e-17j) [0^ 2] +\n",
       "0.15915494309189535 [0^ 2^ 0 2] +\n",
       "0.15915494309189535 [0^ 3^ 1 2] +\n",
       "0.15915494309189535 [1^ 0^ 2 3] +\n",
       "19.739208802178716 [1^ 1] +\n",
       "0.15915494309189535 [1^ 2^ 0 3] +\n",
       "(-0.30111825512336843+1.843817536508347e-17j) [1^ 3] +\n",
       "0.15915494309189535 [1^ 3^ 1 3] +\n",
       "(-0.30111825512336843-1.843817536508347e-17j) [2^ 0] +\n",
       "0.15915494309189535 [2^ 0^ 2 0] +\n",
       "0.15915494309189535 [2^ 1^ 3 0] +\n",
       "0.15915494309189535 [2^ 3^ 1 0] +\n",
       "0.15915494309189535 [3^ 0^ 2 1] +\n",
       "(-0.30111825512336843-1.843817536508347e-17j) [3^ 1] +\n",
       "0.15915494309189535 [3^ 1^ 3 1] +\n",
       "0.15915494309189535 [3^ 2^ 0 1]"
      ]
     },
     "execution_count": 4,
     "metadata": {},
     "output_type": "execute_result"
    }
   ],
   "source": [
    "pwh = plane_wave_hamiltonian(grid,geometry)\n",
    "pwh"
   ]
  },
  {
   "cell_type": "markdown",
   "metadata": {},
   "source": [
    "## Kinetic energy of grid"
   ]
  },
  {
   "cell_type": "code",
   "execution_count": 5,
   "metadata": {},
   "outputs": [
    {
     "data": {
      "text/plain": [
       "19.739208802178716 [0^ 0] +\n",
       "19.739208802178716 [1^ 1]"
      ]
     },
     "execution_count": 5,
     "metadata": {},
     "output_type": "execute_result"
    }
   ],
   "source": [
    "pwk = plane_wave_kinetic(grid) \n",
    "pwk"
   ]
  },
  {
   "cell_type": "markdown",
   "metadata": {},
   "source": [
    "## Potential energy of grid"
   ]
  },
  {
   "cell_type": "markdown",
   "metadata": {},
   "source": [
    "### Return the e-e potential operator in the plane wave basis."
   ]
  },
  {
   "cell_type": "code",
   "execution_count": 6,
   "metadata": {},
   "outputs": [
    {
     "data": {
      "text/plain": [
       "0.15915494309189535 [0^ 1^ 3 2] +\n",
       "0.15915494309189535 [0^ 2^ 0 2] +\n",
       "0.15915494309189535 [0^ 3^ 1 2] +\n",
       "0.15915494309189535 [1^ 0^ 2 3] +\n",
       "0.15915494309189535 [1^ 2^ 0 3] +\n",
       "0.15915494309189535 [1^ 3^ 1 3] +\n",
       "0.15915494309189535 [2^ 0^ 2 0] +\n",
       "0.15915494309189535 [2^ 1^ 3 0] +\n",
       "0.15915494309189535 [2^ 3^ 1 0] +\n",
       "0.15915494309189535 [3^ 0^ 2 1] +\n",
       "0.15915494309189535 [3^ 1^ 3 1] +\n",
       "0.15915494309189535 [3^ 2^ 0 1]"
      ]
     },
     "execution_count": 6,
     "metadata": {},
     "output_type": "execute_result"
    }
   ],
   "source": [
    "pwp = plane_wave_potential(grid)\n",
    "pwp"
   ]
  },
  {
   "cell_type": "markdown",
   "metadata": {},
   "source": [
    "## External Potential Energy of the grid and the geometry"
   ]
  },
  {
   "cell_type": "markdown",
   "metadata": {},
   "source": [
    "### The external potential resulting from electrons interacting with nuclei. It is defined here as the Fourier transform of the dual basis Hamiltonian such that is spectrally equivalent in the case of both even and odd grids. Otherwise, the two differ in the case of even grids."
   ]
  },
  {
   "cell_type": "code",
   "execution_count": 7,
   "metadata": {},
   "outputs": [
    {
     "data": {
      "text/plain": [
       "(-0.30111825512336843+1.843817536508347e-17j) [0^ 2] +\n",
       "(-0.30111825512336843+1.843817536508347e-17j) [1^ 3] +\n",
       "(-0.30111825512336843-1.843817536508347e-17j) [2^ 0] +\n",
       "(-0.30111825512336843-1.843817536508347e-17j) [3^ 1]"
      ]
     },
     "execution_count": 7,
     "metadata": {},
     "output_type": "execute_result"
    }
   ],
   "source": [
    "pwep = plane_wave_external_potential(grid,geometry,False)\n",
    "pwep"
   ]
  },
  {
   "cell_type": "markdown",
   "metadata": {},
   "source": [
    "We can specify if `jelllium_model` whether to return in momentum space (`True`) or position space (`False`). Default is `True`"
   ]
  },
  {
   "cell_type": "markdown",
   "metadata": {},
   "source": [
    "# Jellium Model"
   ]
  },
  {
   "cell_type": "code",
   "execution_count": 8,
   "metadata": {},
   "outputs": [
    {
     "data": {
      "text/plain": [
       "19.739208802178716 [0^ 0] +\n",
       "0.15915494309189535 [0^ 1^ 3 2] +\n",
       "0.15915494309189535 [0^ 2^ 0 2] +\n",
       "0.15915494309189535 [0^ 3^ 1 2] +\n",
       "0.15915494309189535 [1^ 0^ 2 3] +\n",
       "19.739208802178716 [1^ 1] +\n",
       "0.15915494309189535 [1^ 2^ 0 3] +\n",
       "0.15915494309189535 [1^ 3^ 1 3] +\n",
       "0.15915494309189535 [2^ 0^ 2 0] +\n",
       "0.15915494309189535 [2^ 1^ 3 0] +\n",
       "0.15915494309189535 [2^ 3^ 1 0] +\n",
       "0.15915494309189535 [3^ 0^ 2 1] +\n",
       "0.15915494309189535 [3^ 1^ 3 1] +\n",
       "0.15915494309189535 [3^ 2^ 0 1]"
      ]
     },
     "execution_count": 8,
     "metadata": {},
     "output_type": "execute_result"
    }
   ],
   "source": [
    "jm = jellium_model(grid)\n",
    "jm"
   ]
  },
  {
   "cell_type": "markdown",
   "metadata": {},
   "source": [
    "# Finding Ground State of the operators"
   ]
  },
  {
   "cell_type": "code",
   "execution_count": 9,
   "metadata": {},
   "outputs": [],
   "source": [
    "from openfermion.linalg import get_ground_state\n",
    "from openfermion import get_sparse_operator\n",
    "from openfermion.transforms import jordan_wigner"
   ]
  },
  {
   "cell_type": "code",
   "execution_count": 10,
   "metadata": {},
   "outputs": [],
   "source": [
    "def getGroundState(op):\n",
    "    jw = jordan_wigner(op)\n",
    "    jw.compress()\n",
    "    sparse_jwham  = get_sparse_operator(jw)\n",
    "    return get_ground_state(sparse_jwham)[0]"
   ]
  },
  {
   "cell_type": "code",
   "execution_count": 11,
   "metadata": {},
   "outputs": [],
   "source": [
    "pwh_gs = getGroundState(pwh)\n",
    "pwp_gs = getGroundState(pwp)\n",
    "pwk_gs = getGroundState(pwk)\n",
    "pwep_gs = getGroundState(pwep)\n",
    "jm_gs = getGroundState(jm)"
   ]
  },
  {
   "cell_type": "code",
   "execution_count": 12,
   "metadata": {},
   "outputs": [
    {
     "name": "stdout",
     "output_type": "stream",
     "text": [
      "Hamiltonian: -0.011458757929299769 Hartree\n",
      "Potential: -0.6366197723675814 Hartree\n",
      "Kinetic: 4.940609493123656e-15 Hartree\n",
      "External potential: -0.6022365102467369 Hartree\n",
      "\n",
      "Total Energy: -1.250315040543613 Hartree\n"
     ]
    }
   ],
   "source": [
    "print(f\"Hamiltonian: {pwh_gs} Hartree\")\n",
    "print(f\"Potential: {pwp_gs} Hartree\")\n",
    "print(f\"Kinetic: {pwk_gs} Hartree\")\n",
    "print(f\"External potential: {pwep_gs} Hartree\")\n",
    "\n",
    "print(f\"\\nTotal Energy: {pwh_gs+pwp_gs+pwk_gs+pwep_gs} Hartree\")"
   ]
  },
  {
   "cell_type": "code",
   "execution_count": 13,
   "metadata": {},
   "outputs": [
    {
     "name": "stdout",
     "output_type": "stream",
     "text": [
      "jellium_model ground state: -0.0025663287372486173 Hartree\n"
     ]
    }
   ],
   "source": [
    "print(f\"jellium_model ground state: {jm_gs} Hartree\")"
   ]
  }
 ],
 "metadata": {
  "kernelspec": {
   "display_name": "Python 3.9.6 64-bit",
   "language": "python",
   "name": "python3"
  },
  "language_info": {
   "codemirror_mode": {
    "name": "ipython",
    "version": 3
   },
   "file_extension": ".py",
   "mimetype": "text/x-python",
   "name": "python",
   "nbconvert_exporter": "python",
   "pygments_lexer": "ipython3",
   "version": "3.9.6"
  },
  "orig_nbformat": 4,
  "vscode": {
   "interpreter": {
    "hash": "f7bbd7d15d345631401b379373bc7de7026e351b12f22cb43222ebbc7bc144e1"
   }
  }
 },
 "nbformat": 4,
 "nbformat_minor": 2
}
