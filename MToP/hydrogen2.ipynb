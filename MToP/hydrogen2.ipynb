{
 "cells": [
  {
   "cell_type": "markdown",
   "metadata": {},
   "source": [
    "# Installing Openfermion\n",
    "\n",
    "1. Open a folder\n",
    "2. Clone repo via git: `git clone https://github.com/quantumlib/OpenFermion`\n",
    "3. Go to cloned folder: `cd OpenFermion`\n",
    "4. Install with pip: `python3 -m pip install -e .`"
   ]
  },
  {
   "cell_type": "markdown",
   "metadata": {},
   "source": [
    "# Planewave Hamiltonian\n",
    "\n",
    "`plane_wave_hamiltonian` function returns the hamiltonian of the system in the plane-wave basis as a FermionOperator.\n",
    "\n",
    "We need to pass a `Grid` and a `geometry` to this function."
   ]
  },
  {
   "cell_type": "code",
   "execution_count": 1,
   "metadata": {},
   "outputs": [],
   "source": [
    "from openfermion import plane_wave_hamiltonian"
   ]
  },
  {
   "cell_type": "markdown",
   "metadata": {},
   "source": [
    "## Grid\n",
    "\n",
    "Grid needs 3 arguments: `dimensions, length, scale`\n",
    "\n",
    "`dimensions (int)`: The number of dimensions the grid lives in.\n",
    "\n",
    "`length (int or tuple)`: The number of points along each grid axis\n",
    "                that will be taken in both reciprocal and real space.\n",
    "                If tuple, it is read for each dimension, otherwise assumed\n",
    "                uniform.\n",
    "                \n",
    "`scale (float or ndarray)`: The total length of each grid dimension.\n",
    "    If a float is passed, the uniform cubic unit cell is assumed.\n",
    "    For an ndarray, dimensions independent vectors of the correct\n",
    "    dimension must be passed.  We assume column vectors define\n",
    "    the supercell vectors."
   ]
  },
  {
   "cell_type": "code",
   "execution_count": 2,
   "metadata": {},
   "outputs": [],
   "source": [
    "from openfermion.utils import Grid\n",
    "\n",
    "grid = Grid(1, 2, 1.0) # We are working in 1D."
   ]
  },
  {
   "cell_type": "markdown",
   "metadata": {},
   "source": [
    "## Geometry\n",
    "\n",
    "A list of tuples giving the coordinates of each atom. \n",
    "\n",
    "Distances in angstrom. Use atomic symbols to specify atoms.\n",
    "\n",
    "Example for 3D geometry is [('H', (0, 0, 0)), ('H', (0, 0, 0.7414))]. \n",
    "\n",
    "For 1D: [('H', (0,)), ('H', (0.7414,))]\n"
   ]
  },
  {
   "cell_type": "code",
   "execution_count": 3,
   "metadata": {},
   "outputs": [],
   "source": [
    "geometry = [('H', (0,)), ('H', (0.7414,))]"
   ]
  },
  {
   "cell_type": "code",
   "execution_count": 4,
   "metadata": {},
   "outputs": [
    {
     "data": {
      "text/plain": [
       "19.739208802178716 [0^ 0] +\n",
       "0.15915494309189535 [0^ 1^ 3 2] +\n",
       "(-0.30111825512336843+1.843817536508347e-17j) [0^ 2] +\n",
       "0.15915494309189535 [0^ 2^ 0 2] +\n",
       "0.15915494309189535 [0^ 3^ 1 2] +\n",
       "0.15915494309189535 [1^ 0^ 2 3] +\n",
       "19.739208802178716 [1^ 1] +\n",
       "0.15915494309189535 [1^ 2^ 0 3] +\n",
       "(-0.30111825512336843+1.843817536508347e-17j) [1^ 3] +\n",
       "0.15915494309189535 [1^ 3^ 1 3] +\n",
       "(-0.30111825512336843-1.843817536508347e-17j) [2^ 0] +\n",
       "0.15915494309189535 [2^ 0^ 2 0] +\n",
       "0.15915494309189535 [2^ 1^ 3 0] +\n",
       "0.15915494309189535 [2^ 3^ 1 0] +\n",
       "0.15915494309189535 [3^ 0^ 2 1] +\n",
       "(-0.30111825512336843-1.843817536508347e-17j) [3^ 1] +\n",
       "0.15915494309189535 [3^ 1^ 3 1] +\n",
       "0.15915494309189535 [3^ 2^ 0 1]"
      ]
     },
     "execution_count": 4,
     "metadata": {},
     "output_type": "execute_result"
    }
   ],
   "source": [
    "pwh = plane_wave_hamiltonian(grid,geometry)\n",
    "pwh"
   ]
  },
  {
   "cell_type": "markdown",
   "metadata": {},
   "source": [
    "## Finding Ground State"
   ]
  },
  {
   "cell_type": "markdown",
   "metadata": {},
   "source": [
    "### Jordan Wigner Transformation\n",
    "\n",
    "First, we need to transform our Hamiltonian (FermionOperator) to Qubit Operator with `jordan_wigner` transformation. Then, we use compress function to get rid of the zero values."
   ]
  },
  {
   "cell_type": "code",
   "execution_count": 5,
   "metadata": {},
   "outputs": [
    {
     "data": {
      "text/plain": [
       "19.580053859086824 [] +\n",
       "-0.07957747154594767 [X0 X1 Y2 Y3] +\n",
       "0.07957747154594767 [X0 Y1 Y2 X3] +\n",
       "-0.15055912756168421 [X0 Z1 X2] +\n",
       "0.07957747154594767 [Y0 X1 X2 Y3] +\n",
       "-0.07957747154594767 [Y0 Y1 X2 X3] +\n",
       "-0.15055912756168421 [Y0 Z1 Y2] +\n",
       "-9.790026929543409 [Z0] +\n",
       "-0.07957747154594767 [Z0 Z2] +\n",
       "-0.15055912756168421 [X1 Z2 X3] +\n",
       "-0.15055912756168421 [Y1 Z2 Y3] +\n",
       "-9.790026929543409 [Z1] +\n",
       "-0.07957747154594767 [Z1 Z3] +\n",
       "0.07957747154594767 [Z2] +\n",
       "0.07957747154594767 [Z3]"
      ]
     },
     "execution_count": 5,
     "metadata": {},
     "output_type": "execute_result"
    }
   ],
   "source": [
    "from openfermion.transforms import jordan_wigner\n",
    "\n",
    "jw = jordan_wigner(pwh)\n",
    "jw.compress()\n",
    "\n",
    "jw"
   ]
  },
  {
   "cell_type": "markdown",
   "metadata": {},
   "source": [
    "### Sparse Operator\n",
    "\n",
    "We need sparse operator of the Qubit Operator."
   ]
  },
  {
   "cell_type": "code",
   "execution_count": 6,
   "metadata": {},
   "outputs": [
    {
     "data": {
      "text/plain": [
       "<16x16 sparse matrix of type '<class 'numpy.complex128'>'\n",
       "\twith 36 stored elements in Compressed Sparse Column format>"
      ]
     },
     "execution_count": 6,
     "metadata": {},
     "output_type": "execute_result"
    }
   ],
   "source": [
    "from openfermion import get_sparse_operator\n",
    "\n",
    "sparse_jwham  = get_sparse_operator(jw)\n",
    "sparse_jwham"
   ]
  },
  {
   "cell_type": "markdown",
   "metadata": {},
   "source": [
    "### Ground State\n",
    "\n",
    "`get_ground_state` function returns the minimum eigenvalue and the minimum eigenstate of the sparse operator "
   ]
  },
  {
   "cell_type": "code",
   "execution_count": 7,
   "metadata": {},
   "outputs": [
    {
     "data": {
      "text/plain": [
       "-0.011458757929299769"
      ]
     },
     "execution_count": 7,
     "metadata": {},
     "output_type": "execute_result"
    }
   ],
   "source": [
    "from openfermion.linalg import get_ground_state\n",
    "\n",
    "gs = get_ground_state(sparse_jwham)[0]\n",
    "gs"
   ]
  },
  {
   "cell_type": "markdown",
   "metadata": {},
   "source": [
    "# Finding Ground States for different distances"
   ]
  },
  {
   "cell_type": "markdown",
   "metadata": {},
   "source": [
    "## Functions"
   ]
  },
  {
   "cell_type": "code",
   "execution_count": 8,
   "metadata": {},
   "outputs": [],
   "source": [
    "def getGroundState(op):\n",
    "    jw = jordan_wigner(op)\n",
    "    jw.compress()\n",
    "    sparse_jwham  = get_sparse_operator(jw)\n",
    "    return get_ground_state(sparse_jwham)[0]"
   ]
  },
  {
   "cell_type": "code",
   "execution_count": 9,
   "metadata": {},
   "outputs": [],
   "source": [
    "def pwGroundState(dim,length,scale,dist):\n",
    "    grid = Grid(dim,length,scale)\n",
    "\n",
    "    geometry = [(\"H\",(0,)*dim),(\"H\",(0,)*(dim-1) + (dist,))] # distance is on the z-axis\n",
    "\n",
    "    pwh = plane_wave_hamiltonian(grid,geometry)\n",
    "    gs = getGroundState(pwh)\n",
    "    return gs"
   ]
  },
  {
   "cell_type": "code",
   "execution_count": 10,
   "metadata": {},
   "outputs": [],
   "source": [
    "import numpy as np"
   ]
  },
  {
   "cell_type": "code",
   "execution_count": 11,
   "metadata": {},
   "outputs": [],
   "source": [
    "def incDist(start,stop,npoints,dim,length,scale):\n",
    "    npoints = 50\n",
    "    dists = np.linspace(start,stop,npoints)\n",
    "\n",
    "    energies = [pwGroundState(dim,length,scale,dist) for dist in dists]\n",
    "\n",
    "    return dists,energies"
   ]
  },
  {
   "cell_type": "code",
   "execution_count": 19,
   "metadata": {},
   "outputs": [],
   "source": [
    "inc1d = incDist(0,3,45,1,2,1.0)"
   ]
  },
  {
   "cell_type": "code",
   "execution_count": 12,
   "metadata": {},
   "outputs": [],
   "source": [
    "import matplotlib.pyplot as plt"
   ]
  },
  {
   "cell_type": "code",
   "execution_count": 20,
   "metadata": {},
   "outputs": [
    {
     "data": {
      "text/plain": [
       "<matplotlib.legend.Legend at 0x163d6ff8b80>"
      ]
     },
     "execution_count": 20,
     "metadata": {},
     "output_type": "execute_result"
    },
    {
     "data": {
      "image/png": "[encoded data removed]",
      "text/plain": [
       "<Figure size 864x864 with 1 Axes>"
      ]
     },
     "metadata": {
      "needs_background": "light"
     },
     "output_type": "display_data"
    }
   ],
   "source": [
    "plt.figure(figsize=(12,12))\n",
    "plt.plot(*inc1d,label=\"1D\")\n",
    "plt.title(\"Distance vs Energy\")\n",
    "plt.xlabel(\"Distance (Angstrom)\")\n",
    "plt.ylabel(\"Energy (Hartree)\")\n",
    "plt.legend()"
   ]
  },
  {
   "cell_type": "code",
   "execution_count": null,
   "metadata": {},
   "outputs": [],
   "source": []
  }
 ],
 "metadata": {
  "kernelspec": {
   "display_name": "Python 3.9.6 64-bit",
   "language": "python",
   "name": "python3"
  },
  "language_info": {
   "codemirror_mode": {
    "name": "ipython",
    "version": 3
   },
   "file_extension": ".py",
   "mimetype": "text/x-python",
   "name": "python",
   "nbconvert_exporter": "python",
   "pygments_lexer": "ipython3",
   "version": "3.9.6"
  },
  "orig_nbformat": 4,
  "vscode": {
   "interpreter": {
    "hash": "f7bbd7d15d345631401b379373bc7de7026e351b12f22cb43222ebbc7bc144e1"
   }
  }
 },
 "nbformat": 4,
 "nbformat_minor": 2
}
